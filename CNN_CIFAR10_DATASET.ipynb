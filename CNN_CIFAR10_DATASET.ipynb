{
  "nbformat": 4,
  "nbformat_minor": 0,
  "metadata": {
    "colab": {
      "name": "Untitled0.ipynb",
      "provenance": [],
      "authorship_tag": "ABX9TyMe3Iu6aIEyuwW8WuL4F7Nj",
      "include_colab_link": true
    },
    "kernelspec": {
      "name": "python3",
      "display_name": "Python 3"
    }
  },
  "cells": [
    {
      "cell_type": "markdown",
      "metadata": {
        "id": "view-in-github",
        "colab_type": "text"
      },
      "source": [
        "<a href=\"https://colab.research.google.com/github/soulaimane2/CNN_Small_Proj/blob/master/CNN_CIFAR10_DATASET.ipynb\" target=\"_parent\"><img src=\"https://colab.research.google.com/assets/colab-badge.svg\" alt=\"Open In Colab\"/></a>"
      ]
    },
    {
      "cell_type": "code",
      "metadata": {
        "id": "Jqh5u0hVKaEH",
        "colab_type": "code",
        "colab": {
          "base_uri": "https://localhost:8080/",
          "height": 34
        },
        "outputId": "42d6e5f7-d572-4fed-d782-b14b78dd73d5"
      },
      "source": [
        "import numpy as np\n",
        "import tensorflow as tf\n",
        "from tensorflow.keras import layers , datasets\n",
        "import matplotlib.pyplot\n",
        "tf.__version__"
      ],
      "execution_count": 67,
      "outputs": [
        {
          "output_type": "execute_result",
          "data": {
            "text/plain": [
              "'2.2.0'"
            ]
          },
          "metadata": {
            "tags": []
          },
          "execution_count": 67
        }
      ]
    },
    {
      "cell_type": "code",
      "metadata": {
        "id": "GjFSfI6QKv9s",
        "colab_type": "code",
        "colab": {
          "base_uri": "https://localhost:8080/",
          "height": 34
        },
        "outputId": "3441dfbf-928e-4379-b4ae-6b2b815b47dc"
      },
      "source": [
        "(x_train,y_train) , (x_test,y_test) = datasets.cifar10.load_data()\n",
        "x_train , x_test = x_train / 255. , x_test / 255.\n",
        "x_train.shape , y_train.shape , x_test.shape , y_test.shape"
      ],
      "execution_count": 68,
      "outputs": [
        {
          "output_type": "execute_result",
          "data": {
            "text/plain": [
              "((50000, 32, 32, 3), (50000, 1), (10000, 32, 32, 3), (10000, 1))"
            ]
          },
          "metadata": {
            "tags": []
          },
          "execution_count": 68
        }
      ]
    },
    {
      "cell_type": "code",
      "metadata": {
        "id": "nWQv7nv4LD2Y",
        "colab_type": "code",
        "colab": {
          "base_uri": "https://localhost:8080/",
          "height": 34
        },
        "outputId": "a8c079e3-ff23-497a-f3bd-a9c408bcc840"
      },
      "source": [
        "y_test , y_train = y_test.flatten() , y_train.flatten()\n",
        "y_test.shape , y_train.shape"
      ],
      "execution_count": 69,
      "outputs": [
        {
          "output_type": "execute_result",
          "data": {
            "text/plain": [
              "((10000,), (50000,))"
            ]
          },
          "metadata": {
            "tags": []
          },
          "execution_count": 69
        }
      ]
    },
    {
      "cell_type": "code",
      "metadata": {
        "id": "k58XRhLALpIW",
        "colab_type": "code",
        "colab": {
          "base_uri": "https://localhost:8080/",
          "height": 34
        },
        "outputId": "cddc3bad-297e-47cb-9adc-de9edc329e47"
      },
      "source": [
        "uniques = len(set(y_train))\n",
        "uniques"
      ],
      "execution_count": 70,
      "outputs": [
        {
          "output_type": "execute_result",
          "data": {
            "text/plain": [
              "10"
            ]
          },
          "metadata": {
            "tags": []
          },
          "execution_count": 70
        }
      ]
    },
    {
      "cell_type": "code",
      "metadata": {
        "id": "2faamHMTLyK8",
        "colab_type": "code",
        "colab": {}
      },
      "source": [
        "model = tf.keras.Sequential([\n",
        "                             layers.Input(shape=x_train[0].shape),\n",
        "                             layers.Conv2D(32,(3,3),strides= 2,activation='relu'),\n",
        "                             layers.Conv2D(64,(3,3),strides= 2,activation='relu'),\n",
        "                             layers.Conv2D(128,(3,3),strides=2,activation='relu'),\n",
        "                             layers.Flatten(),\n",
        "                             layers.Dropout(0.2),\n",
        "                             layers.Dense(1024,activation='relu'),\n",
        "                             layers.Dropout(0.2),\n",
        "                             layers.Dense(1024,activation='relu'),\n",
        "                             layers.Dense(uniques,activation='softmax')\n",
        "])"
      ],
      "execution_count": 0,
      "outputs": []
    },
    {
      "cell_type": "code",
      "metadata": {
        "id": "LqK10SiQNYIi",
        "colab_type": "code",
        "colab": {}
      },
      "source": [
        "model.compile(optimizer=\"adam\",loss='sparse_categorical_crossentropy',metrics=['accuracy'])"
      ],
      "execution_count": 0,
      "outputs": []
    },
    {
      "cell_type": "code",
      "metadata": {
        "id": "UMU8wH0hPlSM",
        "colab_type": "code",
        "colab": {
          "base_uri": "https://localhost:8080/",
          "height": 527
        },
        "outputId": "34d26e30-eb70-48fa-e331-ae25eb010a4e"
      },
      "source": [
        "r = model.fit(x_train,y_train,epochs=15)"
      ],
      "execution_count": 75,
      "outputs": [
        {
          "output_type": "stream",
          "text": [
            "Epoch 1/15\n",
            "1563/1563 [==============================] - 86s 55ms/step - loss: 1.5477 - accuracy: 0.4334\n",
            "Epoch 2/15\n",
            "1563/1563 [==============================] - 87s 56ms/step - loss: 1.2193 - accuracy: 0.5608\n",
            "Epoch 3/15\n",
            "1563/1563 [==============================] - 82s 53ms/step - loss: 1.0498 - accuracy: 0.6246\n",
            "Epoch 4/15\n",
            "1563/1563 [==============================] - 87s 56ms/step - loss: 0.9277 - accuracy: 0.6701\n",
            "Epoch 5/15\n",
            "1563/1563 [==============================] - 85s 54ms/step - loss: 0.8242 - accuracy: 0.7051\n",
            "Epoch 6/15\n",
            "1563/1563 [==============================] - 89s 57ms/step - loss: 0.7431 - accuracy: 0.7347\n",
            "Epoch 7/15\n",
            "1563/1563 [==============================] - 86s 55ms/step - loss: 0.6672 - accuracy: 0.7616\n",
            "Epoch 8/15\n",
            "1563/1563 [==============================] - 87s 56ms/step - loss: 0.5995 - accuracy: 0.7854\n",
            "Epoch 9/15\n",
            "1563/1563 [==============================] - 87s 55ms/step - loss: 0.5376 - accuracy: 0.8081\n",
            "Epoch 10/15\n",
            "1563/1563 [==============================] - 87s 56ms/step - loss: 0.4976 - accuracy: 0.8209\n",
            "Epoch 11/15\n",
            "1563/1563 [==============================] - 86s 55ms/step - loss: 0.4512 - accuracy: 0.8383\n",
            "Epoch 12/15\n",
            "1563/1563 [==============================] - 86s 55ms/step - loss: 0.4208 - accuracy: 0.8487\n",
            "Epoch 13/15\n",
            "1563/1563 [==============================] - 86s 55ms/step - loss: 0.3893 - accuracy: 0.8631\n",
            "Epoch 14/15\n",
            "1563/1563 [==============================] - 85s 55ms/step - loss: 0.3714 - accuracy: 0.8682\n",
            "Epoch 15/15\n",
            "1563/1563 [==============================] - 87s 56ms/step - loss: 0.3468 - accuracy: 0.8785\n"
          ],
          "name": "stdout"
        }
      ]
    },
    {
      "cell_type": "code",
      "metadata": {
        "id": "_ZdPm1JoPvFL",
        "colab_type": "code",
        "colab": {
          "base_uri": "https://localhost:8080/",
          "height": 285
        },
        "outputId": "92944a95-6f6e-49fb-f97b-86c7602f1422"
      },
      "source": [
        "plt = matplotlib.pyplot\n",
        "plt.plot(r.history['loss'],label = \"Loss\")\n",
        "plt.legend()"
      ],
      "execution_count": 76,
      "outputs": [
        {
          "output_type": "execute_result",
          "data": {
            "text/plain": [
              "<matplotlib.legend.Legend at 0x7f951258df28>"
            ]
          },
          "metadata": {
            "tags": []
          },
          "execution_count": 76
        },
        {
          "output_type": "display_data",
          "data": {
            "image/png": "[encoded data removed]",
            "text/plain": [
              "<Figure size 432x288 with 1 Axes>"
            ]
          },
          "metadata": {
            "tags": [],
            "needs_background": "light"
          }
        }
      ]
    },
    {
      "cell_type": "code",
      "metadata": {
        "id": "OpyhpQoXRg58",
        "colab_type": "code",
        "colab": {
          "base_uri": "https://localhost:8080/",
          "height": 286
        },
        "outputId": "85fe8f8e-fc2a-49cf-c4e2-104d29400295"
      },
      "source": [
        "plt.plot(r.history['accuracy'],label = \"accuracy\")\n",
        "plt.legend()"
      ],
      "execution_count": 77,
      "outputs": [
        {
          "output_type": "execute_result",
          "data": {
            "text/plain": [
              "<matplotlib.legend.Legend at 0x7f9512e0de10>"
            ]
          },
          "metadata": {
            "tags": []
          },
          "execution_count": 77
        },
        {
          "output_type": "display_data",
          "data": {
            "image/png": "[encoded data removed]",
            "text/plain": [
              "<Figure size 432x288 with 1 Axes>"
            ]
          },
          "metadata": {
            "tags": [],
            "needs_background": "light"
          }
        }
      ]
    },
    {
      "cell_type": "code",
      "metadata": {
        "id": "S7oul0QAR69q",
        "colab_type": "code",
        "colab": {
          "base_uri": "https://localhost:8080/",
          "height": 51
        },
        "outputId": "5c518106-4246-418e-d801-c76b4b491b44"
      },
      "source": [
        "model.evaluate(x_test,y_test)"
      ],
      "execution_count": 78,
      "outputs": [
        {
          "output_type": "stream",
          "text": [
            "313/313 [==============================] - 4s 12ms/step - loss: 1.0663 - accuracy: 0.6998\n"
          ],
          "name": "stdout"
        },
        {
          "output_type": "execute_result",
          "data": {
            "text/plain": [
              "[1.0663223266601562, 0.6998000144958496]"
            ]
          },
          "metadata": {
            "tags": []
          },
          "execution_count": 78
        }
      ]
    },
    {
      "cell_type": "code",
      "metadata": {
        "id": "JLQF-GQYSuK2",
        "colab_type": "code",
        "colab": {}
      },
      "source": [
        "labels = '''airplane\n",
        "automobile\n",
        "bird\n",
        "cat\n",
        "deer\n",
        "dog\n",
        "frog\n",
        "horse\n",
        "ship\n",
        "truck'''.split()"
      ],
      "execution_count": 0,
      "outputs": []
    },
    {
      "cell_type": "code",
      "metadata": {
        "id": "Me6rNWlceUu-",
        "colab_type": "code",
        "colab": {
          "base_uri": "https://localhost:8080/",
          "height": 298
        },
        "outputId": "9b8f6efa-66e8-4702-bb8e-8d2f61c40453"
      },
      "source": [
        "predicted_values = model.predict(x_test).argmax(axis=1)\n",
        "random_num = np.random.choice(x_test.shape[0])\n",
        "plt.imshow(x_test[random_num])\n",
        "plt.title(\"predicted value {%s} | true value{%s}\"%(labels[predicted_values[random_num]],labels[y_test[random_num]]))"
      ],
      "execution_count": 81,
      "outputs": [
        {
          "output_type": "execute_result",
          "data": {
            "text/plain": [
              "Text(0.5, 1.0, 'predicted value {automobile} | true value{automobile}')"
            ]
          },
          "metadata": {
            "tags": []
          },
          "execution_count": 81
        },
        {
          "output_type": "display_data",
          "data": {
            "image/png": "[encoded data removed]",
            "text/plain": [
              "<Figure size 432x288 with 1 Axes>"
            ]
          },
          "metadata": {
            "tags": [],
            "needs_background": "light"
          }
        }
      ]
    },
    {
      "cell_type": "code",
      "metadata": {
        "id": "OLRrj18Ueto-",
        "colab_type": "code",
        "colab": {}
      },
      "source": [
        ""
      ],
      "execution_count": 0,
      "outputs": []
    }
  ]
}