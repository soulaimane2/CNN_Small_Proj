{
  "nbformat": 4,
  "nbformat_minor": 0,
  "metadata": {
    "colab": {
      "name": "CNN_MNIST_FASHION_DATASET.ipynb",
      "provenance": [],
      "authorship_tag": "ABX9TyNrVz3lhD3lQBDLrbWtlf4L",
      "include_colab_link": true
    },
    "kernelspec": {
      "name": "python3",
      "display_name": "Python 3"
    }
  },
  "cells": [
    {
      "cell_type": "markdown",
      "metadata": {
        "id": "view-in-github",
        "colab_type": "text"
      },
      "source": [
        "<a href=\"https://colab.research.google.com/github/soulaimane2/CNN_Small_Proj/blob/master/CNN_MNIST_FASHION_DATASET.ipynb\" target=\"_parent\"><img src=\"https://colab.research.google.com/assets/colab-badge.svg\" alt=\"Open In Colab\"/></a>"
      ]
    },
    {
      "cell_type": "code",
      "metadata": {
        "id": "n8IjMzh7lybE",
        "colab_type": "code",
        "colab": {
          "base_uri": "https://localhost:8080/",
          "height": 34
        },
        "outputId": "b65e3e72-8679-4c44-a1a7-43498fde116c"
      },
      "source": [
        "import numpy as np\n",
        "import tensorflow as tf\n",
        "import matplotlib.pyplot as plt\n",
        "tf.__version__"
      ],
      "execution_count": 20,
      "outputs": [
        {
          "output_type": "execute_result",
          "data": {
            "text/plain": [
              "'2.2.0'"
            ]
          },
          "metadata": {
            "tags": []
          },
          "execution_count": 20
        }
      ]
    },
    {
      "cell_type": "code",
      "metadata": {
        "id": "pazJU7Kxm5S6",
        "colab_type": "code",
        "colab": {
          "base_uri": "https://localhost:8080/",
          "height": 34
        },
        "outputId": "872d31cb-ad9d-48aa-da10-da4e28e6adce"
      },
      "source": [
        "(x_train,y_train),(x_test,y_test) = tf.keras.datasets.fashion_mnist.load_data()\n",
        "x_train , x_test = x_train / 255., x_test / 255.\n",
        "x_train.shape , x_test.shape"
      ],
      "execution_count": 21,
      "outputs": [
        {
          "output_type": "execute_result",
          "data": {
            "text/plain": [
              "((60000, 28, 28), (10000, 28, 28))"
            ]
          },
          "metadata": {
            "tags": []
          },
          "execution_count": 21
        }
      ]
    },
    {
      "cell_type": "code",
      "metadata": {
        "id": "NmQVi3d2nV_i",
        "colab_type": "code",
        "colab": {
          "base_uri": "https://localhost:8080/",
          "height": 34
        },
        "outputId": "d3c95a1e-573a-4e5a-abd0-73c30e479937"
      },
      "source": [
        "# the conv2d expects 3 dems so let's expand the dem\n",
        "x_train = np.expand_dims(x_train, -1)\n",
        "x_test = np.expand_dims(x_test, -1)\n",
        "x_train.shape , x_test.shape"
      ],
      "execution_count": 22,
      "outputs": [
        {
          "output_type": "execute_result",
          "data": {
            "text/plain": [
              "((60000, 28, 28, 1), (10000, 28, 28, 1))"
            ]
          },
          "metadata": {
            "tags": []
          },
          "execution_count": 22
        }
      ]
    },
    {
      "cell_type": "code",
      "metadata": {
        "id": "kLokpfiSoQSJ",
        "colab_type": "code",
        "colab": {
          "base_uri": "https://localhost:8080/",
          "height": 34
        },
        "outputId": "83a09506-4a9a-4686-acaa-fd1d6916e355"
      },
      "source": [
        "# let's check how many unique item we got\n",
        "uniques = len(set(y_train))\n",
        "uniques"
      ],
      "execution_count": 23,
      "outputs": [
        {
          "output_type": "execute_result",
          "data": {
            "text/plain": [
              "10"
            ]
          },
          "metadata": {
            "tags": []
          },
          "execution_count": 23
        }
      ]
    },
    {
      "cell_type": "code",
      "metadata": {
        "id": "vCwGmDO1ou1k",
        "colab_type": "code",
        "colab": {}
      },
      "source": [
        "# Now let's build the model\n",
        "model = tf.keras.Sequential([\n",
        "                            tf.keras.layers.Input(shape=x_train[0].shape),\n",
        "                            tf.keras.layers.Conv2D(32,(3,3),strides=2,activation='relu'),\n",
        "                             tf.keras.layers.Conv2D(64,(3,3), strides=2,activation='relu'),\n",
        "                             tf.keras.layers.Conv2D(128,(3,3),strides=2, activation='relu'),\n",
        "                             tf.keras.layers.Flatten(),\n",
        "                             tf.keras.layers.Dense(512,activation='relu'),\n",
        "                             tf.keras.layers.Dense(uniques,activation='softmax')\n",
        "])"
      ],
      "execution_count": 0,
      "outputs": []
    },
    {
      "cell_type": "code",
      "metadata": {
        "id": "NiRze6t7pVJa",
        "colab_type": "code",
        "colab": {}
      },
      "source": [
        "model.compile(optimizer='adam',loss=\"sparse_categorical_crossentropy\",metrics=[\"accuracy\"])"
      ],
      "execution_count": 0,
      "outputs": []
    },
    {
      "cell_type": "code",
      "metadata": {
        "id": "Cew9PcZprCT5",
        "colab_type": "code",
        "colab": {
          "base_uri": "https://localhost:8080/",
          "height": 527
        },
        "outputId": "c8807afb-8591-47a1-e6db-68f5824f3ecc"
      },
      "source": [
        "r = model.fit(x_train,y_train,epochs=15)"
      ],
      "execution_count": 26,
      "outputs": [
        {
          "output_type": "stream",
          "text": [
            "Epoch 1/15\n",
            "1875/1875 [==============================] - 26s 14ms/step - loss: 0.4958 - accuracy: 0.8158\n",
            "Epoch 2/15\n",
            "1875/1875 [==============================] - 26s 14ms/step - loss: 0.3341 - accuracy: 0.8737\n",
            "Epoch 3/15\n",
            "1875/1875 [==============================] - 26s 14ms/step - loss: 0.2811 - accuracy: 0.8936\n",
            "Epoch 4/15\n",
            "1875/1875 [==============================] - 26s 14ms/step - loss: 0.2442 - accuracy: 0.9079\n",
            "Epoch 5/15\n",
            "1875/1875 [==============================] - 26s 14ms/step - loss: 0.2139 - accuracy: 0.9179\n",
            "Epoch 6/15\n",
            "1875/1875 [==============================] - 25s 14ms/step - loss: 0.1863 - accuracy: 0.9290\n",
            "Epoch 7/15\n",
            "1875/1875 [==============================] - 26s 14ms/step - loss: 0.1601 - accuracy: 0.9392\n",
            "Epoch 8/15\n",
            "1875/1875 [==============================] - 26s 14ms/step - loss: 0.1396 - accuracy: 0.9463\n",
            "Epoch 9/15\n",
            "1875/1875 [==============================] - 26s 14ms/step - loss: 0.1221 - accuracy: 0.9530\n",
            "Epoch 10/15\n",
            "1875/1875 [==============================] - 26s 14ms/step - loss: 0.1081 - accuracy: 0.9588\n",
            "Epoch 11/15\n",
            "1875/1875 [==============================] - 25s 14ms/step - loss: 0.0953 - accuracy: 0.9634\n",
            "Epoch 12/15\n",
            "1875/1875 [==============================] - 25s 14ms/step - loss: 0.0838 - accuracy: 0.9680\n",
            "Epoch 13/15\n",
            "1875/1875 [==============================] - 25s 14ms/step - loss: 0.0719 - accuracy: 0.9725\n",
            "Epoch 14/15\n",
            "1875/1875 [==============================] - 26s 14ms/step - loss: 0.0700 - accuracy: 0.9742\n",
            "Epoch 15/15\n",
            "1875/1875 [==============================] - 26s 14ms/step - loss: 0.0590 - accuracy: 0.9775\n"
          ],
          "name": "stdout"
        }
      ]
    },
    {
      "cell_type": "code",
      "metadata": {
        "id": "UzplL6a5rRUG",
        "colab_type": "code",
        "colab": {
          "base_uri": "https://localhost:8080/",
          "height": 265
        },
        "outputId": "0b971bd8-d616-48d3-956d-713e19667e7a"
      },
      "source": [
        "plt.plot(r.history['loss'],label = \"Loss\")\n",
        "plt.show()"
      ],
      "execution_count": 29,
      "outputs": [
        {
          "output_type": "display_data",
          "data": {
            "image/png": "[encoded data removed]",
            "text/plain": [
              "<Figure size 432x288 with 1 Axes>"
            ]
          },
          "metadata": {
            "tags": [],
            "needs_background": "light"
          }
        }
      ]
    },
    {
      "cell_type": "code",
      "metadata": {
        "id": "4f1FvwxVsyfy",
        "colab_type": "code",
        "colab": {
          "base_uri": "https://localhost:8080/",
          "height": 265
        },
        "outputId": "4827ed90-c42d-4588-b6d4-7df07e1dd602"
      },
      "source": [
        "plt.plot(r.history['accuracy'],label = \"accuracy\")\n",
        "plt.show()"
      ],
      "execution_count": 30,
      "outputs": [
        {
          "output_type": "display_data",
          "data": {
            "image/png": "[encoded data removed]",
            "text/plain": [
              "<Figure size 432x288 with 1 Axes>"
            ]
          },
          "metadata": {
            "tags": [],
            "needs_background": "light"
          }
        }
      ]
    },
    {
      "cell_type": "code",
      "metadata": {
        "id": "CowFkbIXvGgM",
        "colab_type": "code",
        "colab": {}
      },
      "source": [
        ""
      ],
      "execution_count": 0,
      "outputs": []
    }
  ]
}