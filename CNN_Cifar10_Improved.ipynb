{
  "nbformat": 4,
  "nbformat_minor": 0,
  "metadata": {
    "colab": {
      "name": "CNN_Cifar_Improved.ipynb",
      "provenance": [],
      "authorship_tag": "ABX9TyMicOateaEwLl6g6ZKb+qTY",
      "include_colab_link": true
    },
    "kernelspec": {
      "name": "python3",
      "display_name": "Python 3"
    }
  },
  "cells": [
    {
      "cell_type": "markdown",
      "metadata": {
        "id": "view-in-github",
        "colab_type": "text"
      },
      "source": [
        "<a href=\"https://colab.research.google.com/github/soulaimane2/CNN_Small_Proj/blob/master/CNN_Cifar10_Improved.ipynb\" target=\"_parent\"><img src=\"https://colab.research.google.com/assets/colab-badge.svg\" alt=\"Open In Colab\"/></a>"
      ]
    },
    {
      "cell_type": "code",
      "metadata": {
        "id": "BtPLGtTUh0nk",
        "colab_type": "code",
        "colab": {
          "base_uri": "https://localhost:8080/",
          "height": 34
        },
        "outputId": "94950ab6-552a-4e24-cc54-1cb2284d72f4"
      },
      "source": [
        "# Trying To improve the CNN with CIFAR\n",
        "import numpy as np\n",
        "import tensorflow as tf\n",
        "from tensorflow.keras import datasets\n",
        "#from tensorflow.keras.layers import Input, Conv2D, Dense, Flatten, Dropout, GlobalMaxPooling2D, MaxPooling2D, BatchNormalization\n",
        "#from tensorflow.keras.models import Model\n",
        "import matplotlib.pyplot as plt\n",
        "tf.__version__"
      ],
      "execution_count": 20,
      "outputs": [
        {
          "output_type": "execute_result",
          "data": {
            "text/plain": [
              "'2.2.0'"
            ]
          },
          "metadata": {
            "tags": []
          },
          "execution_count": 20
        }
      ]
    },
    {
      "cell_type": "code",
      "metadata": {
        "id": "v-bFFIe_i11-",
        "colab_type": "code",
        "colab": {
          "base_uri": "https://localhost:8080/",
          "height": 34
        },
        "outputId": "c9705283-f142-46ec-adc7-fd08fc42c88e"
      },
      "source": [
        "(x_train,y_train) , (x_test,y_test) = datasets.cifar10.load_data()\n",
        "x_train , x_test = x_train / 255. , x_test / 255.\n",
        "y_train , y_test = y_train.flatten() , y_test.flatten()\n",
        "x_train.shape , x_test.shape , y_train.shape , y_test.shape"
      ],
      "execution_count": 21,
      "outputs": [
        {
          "output_type": "execute_result",
          "data": {
            "text/plain": [
              "((50000, 32, 32, 3), (10000, 32, 32, 3), (50000,), (10000,))"
            ]
          },
          "metadata": {
            "tags": []
          },
          "execution_count": 21
        }
      ]
    },
    {
      "cell_type": "code",
      "metadata": {
        "id": "aaegW2WfjfKN",
        "colab_type": "code",
        "colab": {
          "base_uri": "https://localhost:8080/",
          "height": 34
        },
        "outputId": "62b9a22b-2499-49da-9b4a-160307294df6"
      },
      "source": [
        "K = len(set(y_train))\n",
        "print(\"number of classes:\", K)"
      ],
      "execution_count": 22,
      "outputs": [
        {
          "output_type": "stream",
          "text": [
            "number of classes: 10\n"
          ],
          "name": "stdout"
        }
      ]
    },
    {
      "cell_type": "code",
      "metadata": {
        "id": "iKdkslVHkEoj",
        "colab_type": "code",
        "colab": {}
      },
      "source": [
        "model = tf.keras.Sequential([\n",
        "                             tf.keras.layers.Input(shape = x_train[0].shape),\n",
        "\n",
        "                             tf.keras.layers.Conv2D(32,(3,3),activation='relu',padding='same'),\n",
        "                             tf.keras.layers.BatchNormalization(),\n",
        "                             tf.keras.layers.Conv2D(32,(3,3),activation='relu',padding='same'),\n",
        "                             tf.keras.layers.BatchNormalization(),\n",
        "                             tf.keras.layers.MaxPooling2D((2,2)),\n",
        "\n",
        "                             tf.keras.layers.Conv2D(64,(3,3),activation='relu',padding='same'),\n",
        "                             tf.keras.layers.BatchNormalization(),\n",
        "                             tf.keras.layers.Conv2D(64,(3,3),activation='relu',padding='same'),\n",
        "                             tf.keras.layers.BatchNormalization(),\n",
        "                             tf.keras.layers.MaxPooling2D((2,2)),\n",
        "\n",
        "                             tf.keras.layers.Conv2D(128,(3,3),activation='relu',padding='same'),\n",
        "                             tf.keras.layers.BatchNormalization(),\n",
        "                             tf.keras.layers.Conv2D(128,(3,3),activation='relu',padding='same'),\n",
        "                             tf.keras.layers.BatchNormalization(),\n",
        "                             tf.keras.layers.MaxPooling2D((2,2)),\n",
        "\n",
        "                             tf.keras.layers.Conv2D(256,(3,3),activation='relu',padding='same'),\n",
        "                             tf.keras.layers.BatchNormalization(),\n",
        "                             tf.keras.layers.MaxPooling2D((2,2)),\n",
        "\n",
        "\n",
        "                             tf.keras.layers.GlobalMaxPooling2D(),\n",
        "                             \n",
        "                             tf.keras.layers.Dense(1000,activation='relu'),\n",
        "                             tf.keras.layers.Dropout(0.3),\n",
        "                             tf.keras.layers.Dense(1000,activation='relu'),\n",
        "                             tf.keras.layers.Dropout(0.2),\n",
        "                             tf.keras.layers.Dense(1000,activation='relu'),\n",
        "                             tf.keras.layers.Dense(K,activation=\"softmax\")\n",
        "])"
      ],
      "execution_count": 0,
      "outputs": []
    },
    {
      "cell_type": "code",
      "metadata": {
        "id": "5gbEeW8mlfLm",
        "colab_type": "code",
        "colab": {
          "base_uri": "https://localhost:8080/",
          "height": 357
        },
        "outputId": "7d14d379-cfeb-4000-899e-56b8d759a0dc"
      },
      "source": [
        "model.compile(optimizer=\"adam\",loss=\"sparse_categorical_crossentropy\",metrics=['accuracy'])\n",
        "r = model.fit(x_train,y_train,validation_data=(x_test,y_test),batch_size=50,epochs=10)"
      ],
      "execution_count": 13,
      "outputs": [
        {
          "output_type": "stream",
          "text": [
            "Epoch 1/10\n",
            "1000/1000 [==============================] - 488s 488ms/step - loss: 1.3269 - accuracy: 0.5250 - val_loss: 1.1622 - val_accuracy: 0.5925\n",
            "Epoch 2/10\n",
            "1000/1000 [==============================] - 498s 498ms/step - loss: 0.8875 - accuracy: 0.6988 - val_loss: 0.8972 - val_accuracy: 0.6940\n",
            "Epoch 3/10\n",
            "1000/1000 [==============================] - 512s 512ms/step - loss: 0.6936 - accuracy: 0.7675 - val_loss: 0.7871 - val_accuracy: 0.7322\n",
            "Epoch 4/10\n",
            "1000/1000 [==============================] - 507s 507ms/step - loss: 0.5779 - accuracy: 0.8075 - val_loss: 0.7880 - val_accuracy: 0.7494\n",
            "Epoch 5/10\n",
            "1000/1000 [==============================] - 499s 499ms/step - loss: 0.4969 - accuracy: 0.8351 - val_loss: 0.6603 - val_accuracy: 0.7850\n",
            "Epoch 6/10\n",
            "1000/1000 [==============================] - 498s 498ms/step - loss: 0.4227 - accuracy: 0.8608 - val_loss: 0.6258 - val_accuracy: 0.7974\n",
            "Epoch 7/10\n",
            "1000/1000 [==============================] - 488s 488ms/step - loss: 0.3626 - accuracy: 0.8807 - val_loss: 0.7027 - val_accuracy: 0.7850\n",
            "Epoch 8/10\n",
            "1000/1000 [==============================] - 493s 493ms/step - loss: 0.3128 - accuracy: 0.8964 - val_loss: 0.5975 - val_accuracy: 0.8240\n",
            "Epoch 9/10\n",
            "1000/1000 [==============================] - 492s 492ms/step - loss: 0.2721 - accuracy: 0.9105 - val_loss: 0.7325 - val_accuracy: 0.7905\n",
            "Epoch 10/10\n",
            "1000/1000 [==============================] - 482s 482ms/step - loss: 0.2377 - accuracy: 0.9227 - val_loss: 0.6111 - val_accuracy: 0.8178\n"
          ],
          "name": "stdout"
        }
      ]
    },
    {
      "cell_type": "code",
      "metadata": {
        "id": "VizNnBlZw0Br",
        "colab_type": "code",
        "colab": {
          "base_uri": "https://localhost:8080/",
          "height": 51
        },
        "outputId": "6d6e45b0-8a10-42da-bec3-d7723be64afc"
      },
      "source": [
        "model.evaluate(x_test,y_test)"
      ],
      "execution_count": 14,
      "outputs": [
        {
          "output_type": "stream",
          "text": [
            "313/313 [==============================] - 22s 70ms/step - loss: 0.6111 - accuracy: 0.8178\n"
          ],
          "name": "stdout"
        },
        {
          "output_type": "execute_result",
          "data": {
            "text/plain": [
              "[0.6111260056495667, 0.817799985408783]"
            ]
          },
          "metadata": {
            "tags": []
          },
          "execution_count": 14
        }
      ]
    },
    {
      "cell_type": "code",
      "metadata": {
        "id": "PM-iw6c0yZgC",
        "colab_type": "code",
        "colab": {
          "base_uri": "https://localhost:8080/",
          "height": 282
        },
        "outputId": "5c05122a-8160-4096-fd08-feb85d1347a8"
      },
      "source": [
        "plt.plot(r.history['loss'],label='LOSS')\n",
        "plt.plot(r.history['val_loss'],label='val_loss')\n",
        "plt.legend()"
      ],
      "execution_count": 17,
      "outputs": [
        {
          "output_type": "execute_result",
          "data": {
            "text/plain": [
              "<matplotlib.legend.Legend at 0x7f2986e93128>"
            ]
          },
          "metadata": {
            "tags": []
          },
          "execution_count": 17
        },
        {
          "output_type": "display_data",
          "data": {
            "image/png": "[encoded data removed]",
            "text/plain": [
              "<Figure size 432x288 with 1 Axes>"
            ]
          },
          "metadata": {
            "tags": [],
            "needs_background": "light"
          }
        }
      ]
    },
    {
      "cell_type": "code",
      "metadata": {
        "id": "eXsVgMeoyzPw",
        "colab_type": "code",
        "colab": {
          "base_uri": "https://localhost:8080/",
          "height": 282
        },
        "outputId": "a02afadb-816d-4d6e-d940-d9fc97a6e558"
      },
      "source": [
        "plt.plot(r.history['accuracy'],label='accuracy')\n",
        "plt.plot(r.history['val_accuracy'],label='val_accuracy')\n",
        "plt.legend()"
      ],
      "execution_count": 18,
      "outputs": [
        {
          "output_type": "execute_result",
          "data": {
            "text/plain": [
              "<matplotlib.legend.Legend at 0x7f2986e71d68>"
            ]
          },
          "metadata": {
            "tags": []
          },
          "execution_count": 18
        },
        {
          "output_type": "display_data",
          "data": {
            "image/png": "[encoded data removed]",
            "text/plain": [
              "<Figure size 432x288 with 1 Axes>"
            ]
          },
          "metadata": {
            "tags": [],
            "needs_background": "light"
          }
        }
      ]
    },
    {
      "cell_type": "code",
      "metadata": {
        "id": "w6CHo76bzJj8",
        "colab_type": "code",
        "colab": {
          "base_uri": "https://localhost:8080/",
          "height": 357
        },
        "outputId": "8bee51ba-2cde-43b7-e4fa-a688115fef7d"
      },
      "source": [
        "model.compile(optimizer=\"adam\",loss=\"sparse_categorical_crossentropy\",metrics=['accuracy'])\n",
        "batch_size = 50\n",
        "Data_generator = tf.keras.preprocessing.image.ImageDataGenerator(width_shift_range=0.1,height_shift_range=0.1,horizontal_flip=True)\n",
        "train_generator = Data_generator.flow(x_train,y_train,batch_size)\n",
        "steps_per_epoch_ = x_train.shape[0] // batch_size\n",
        "rs = model.fit_generator(train_generator,validation_data=(x_test,y_test),steps_per_epoch=steps_per_epoch_,epochs=10)"
      ],
      "execution_count": 24,
      "outputs": [
        {
          "output_type": "stream",
          "text": [
            "Epoch 1/10\n",
            "1000/1000 [==============================] - 492s 492ms/step - loss: 1.4458 - accuracy: 0.4795 - val_loss: 1.3034 - val_accuracy: 0.5512\n",
            "Epoch 2/10\n",
            "1000/1000 [==============================] - 529s 529ms/step - loss: 0.9780 - accuracy: 0.6621 - val_loss: 1.0272 - val_accuracy: 0.6490\n",
            "Epoch 3/10\n",
            "1000/1000 [==============================] - 523s 523ms/step - loss: 0.8126 - accuracy: 0.7260 - val_loss: 0.7853 - val_accuracy: 0.7360\n",
            "Epoch 4/10\n",
            "1000/1000 [==============================] - 515s 515ms/step - loss: 0.7089 - accuracy: 0.7618 - val_loss: 0.9090 - val_accuracy: 0.7234\n",
            "Epoch 5/10\n",
            "1000/1000 [==============================] - 524s 524ms/step - loss: 0.6431 - accuracy: 0.7863 - val_loss: 0.6466 - val_accuracy: 0.7832\n",
            "Epoch 6/10\n",
            "1000/1000 [==============================] - 510s 510ms/step - loss: 0.5988 - accuracy: 0.8018 - val_loss: 0.5752 - val_accuracy: 0.8094\n",
            "Epoch 7/10\n",
            "1000/1000 [==============================] - 507s 507ms/step - loss: 0.5602 - accuracy: 0.8154 - val_loss: 0.6243 - val_accuracy: 0.7953\n",
            "Epoch 8/10\n",
            "1000/1000 [==============================] - 516s 516ms/step - loss: 0.5249 - accuracy: 0.8274 - val_loss: 0.6214 - val_accuracy: 0.7970\n",
            "Epoch 9/10\n",
            "1000/1000 [==============================] - 509s 509ms/step - loss: 0.4973 - accuracy: 0.8368 - val_loss: 0.5700 - val_accuracy: 0.8119\n",
            "Epoch 10/10\n",
            "1000/1000 [==============================] - 528s 528ms/step - loss: 0.4795 - accuracy: 0.8419 - val_loss: 0.5412 - val_accuracy: 0.8223\n"
          ],
          "name": "stdout"
        }
      ]
    },
    {
      "cell_type": "code",
      "metadata": {
        "id": "jmAyzsKy01YI",
        "colab_type": "code",
        "colab": {
          "base_uri": "https://localhost:8080/",
          "height": 282
        },
        "outputId": "d63d1ab4-3e77-453d-a90c-2f86396d7d33"
      },
      "source": [
        "plt.plot(r.history['loss'],label='loss')\n",
        "plt.plot(r.history['val_loss'],label='val_loss')\n",
        "plt.legend()"
      ],
      "execution_count": 27,
      "outputs": [
        {
          "output_type": "execute_result",
          "data": {
            "text/plain": [
              "<matplotlib.legend.Legend at 0x7f297cead588>"
            ]
          },
          "metadata": {
            "tags": []
          },
          "execution_count": 27
        },
        {
          "output_type": "display_data",
          "data": {
            "image/png": "[encoded data removed]",
            "text/plain": [
              "<Figure size 432x288 with 1 Axes>"
            ]
          },
          "metadata": {
            "tags": [],
            "needs_background": "light"
          }
        }
      ]
    },
    {
      "cell_type": "code",
      "metadata": {
        "id": "Nu7smXhyJEny",
        "colab_type": "code",
        "colab": {
          "base_uri": "https://localhost:8080/",
          "height": 282
        },
        "outputId": "660f4276-e33a-438d-fe8b-121222b11681"
      },
      "source": [
        "plt.plot(r.history['accuracy'],label='accuracy')\n",
        "plt.plot(r.history['val_accuracy'],label='val_accuracy')\n",
        "plt.legend()"
      ],
      "execution_count": 28,
      "outputs": [
        {
          "output_type": "execute_result",
          "data": {
            "text/plain": [
              "<matplotlib.legend.Legend at 0x7f297ce9ae10>"
            ]
          },
          "metadata": {
            "tags": []
          },
          "execution_count": 28
        },
        {
          "output_type": "display_data",
          "data": {
            "image/png": "[encoded data removed]",
            "text/plain": [
              "<Figure size 432x288 with 1 Axes>"
            ]
          },
          "metadata": {
            "tags": [],
            "needs_background": "light"
          }
        }
      ]
    },
    {
      "cell_type": "code",
      "metadata": {
        "id": "Ge_NcvZKJWC4",
        "colab_type": "code",
        "colab": {
          "base_uri": "https://localhost:8080/",
          "height": 51
        },
        "outputId": "f8753dce-0fd6-4eb6-fc33-da0ad18626be"
      },
      "source": [
        "model.evaluate(x_test,y_test)"
      ],
      "execution_count": 29,
      "outputs": [
        {
          "output_type": "stream",
          "text": [
            "313/313 [==============================] - 22s 71ms/step - loss: 0.5412 - accuracy: 0.8223\n"
          ],
          "name": "stdout"
        },
        {
          "output_type": "execute_result",
          "data": {
            "text/plain": [
              "[0.5411513447761536, 0.8223000168800354]"
            ]
          },
          "metadata": {
            "tags": []
          },
          "execution_count": 29
        }
      ]
    },
    {
      "cell_type": "code",
      "metadata": {
        "id": "bi5ykbONJeu8",
        "colab_type": "code",
        "colab": {}
      },
      "source": [
        ""
      ],
      "execution_count": 0,
      "outputs": []
    }
  ]
}